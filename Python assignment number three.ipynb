{
 "cells": [
  {
   "cell_type": "markdown",
   "id": "e2b5e7fe",
   "metadata": {},
   "source": [
    "Answer for Q.1. :- \n",
    "Functions are advantageous to have in your programs for several reasons:\n",
    "Reusability: Functions allow you to define a block of code that can be reused multiple times within your program. This saves you from writing the same code again and again, promoting code reuse and reducing redundancy.\n",
    "\n",
    "Modularity: Functions promote modularity by breaking down complex tasks into smaller, more manageable parts. Each function can be designed to perform a specific task, making your code easier to read, understand, and maintain.\n",
    "\n",
    "Abstraction: Functions provide a level of abstraction by hiding the implementation details of a particular task. You can use a function without needing to know how it is implemented, as long as you understand its inputs and outputs.\n",
    "\n",
    "Organization: Functions help in organizing your code logically. You can group related code together in functions, making it easier to navigate and maintain your program."
   ]
  },
  {
   "cell_type": "markdown",
   "id": "ce8852a3",
   "metadata": {},
   "source": [
    "Answer for Q.2. :- \n",
    "\n",
    "The code in a function runs when it is called, not when it is specified. When you define a function, you are essentially creating a reusable block of code that will be executed only when you call that function in your program.\n"
   ]
  },
  {
   "cell_type": "markdown",
   "id": "32ccd86e",
   "metadata": {},
   "source": [
    "Answer for Q.3. :- \n",
    "\n",
    "The def statement is used to create a function in Python. Here is the syntax to define a function:\n",
    "\n",
    "python\n",
    "Copy code\n",
    "def function_name(parameters):\n",
    "    # Code block\n",
    "    # Statements\n",
    "    # Return statement (optional)\n",
    "    \n",
    "You replace function_name with the desired name of your function and parameters with any input variables or arguments that the function may require."
   ]
  },
  {
   "cell_type": "markdown",
   "id": "67c09b71",
   "metadata": {},
   "source": [
    "Answer for Q.4. :- \n",
    "\n",
    "A function is a block of code that performs a specific task when called. It is defined using the def statement. On the other hand, a function call is the actual execution of a function in your program. When you call a function, you use its name followed by parentheses, optionally passing any required arguments inside the parentheses.\n",
    "For example:\n",
    "\n",
    "python\n",
    "Copy code\n",
    "#Function definition\n",
    "def my_function():\n",
    "    # Code block\n",
    "\n",
    "#Function call\n",
    "my_function()\n",
    "In this example, my_function() is the function call, while def my_function(): is the function definition.\n"
   ]
  },
  {
   "cell_type": "markdown",
   "id": "f397bb49",
   "metadata": {},
   "source": [
    "Answer for Q.5. :- \n",
    "\n",
    "In a Python program, there is only one global scope. It is the outermost scope that encompasses the entire program. Any variable defined outside of functions or classes belongs to the global scope.\n",
    "However, each function call creates its own local scope. A local scope is created when a function is called and is destroyed when the function completes its execution. Variables defined within a function belong to its local scope and are not accessible outside of it."
   ]
  },
  {
   "cell_type": "markdown",
   "id": "e4a0adc9",
   "metadata": {},
   "source": [
    "Answer for Q.6. :-\n",
    "\n",
    "When a function call returns, the local scope of that function is destroyed, and any variables defined within that scope cease to exist. The values stored in those variables are no longer accessible once the function call is complete. Only the return value (if any) is passed back to the calling code."
   ]
  },
  {
   "cell_type": "markdown",
   "id": "418cc29a",
   "metadata": {},
   "source": [
    "Answer for Q.7. :-\n",
    "\n",
    "The concept of a return value refers to the value that a function can send back to the caller after it completes its execution. A return statement is used to specify the value to be returned. The return value can be of any data type or even None (indicating no specific value).\n",
    "\n",
    "Yes, it is possible to have a return value in an expression. You can use the return value directly in an expression or assign it to a variable for further processing. For example:\n",
    "\n",
    "python\n",
    "Copy code\n",
    "#Using the return value in an expression\n",
    "result = my_function() + 10\n",
    "\n",
    "#Assigning the return value to a variable\n",
    "value = my_function()\n"
   ]
  },
  {
   "cell_type": "markdown",
   "id": "23a15b45",
   "metadata": {},
   "source": [
    "Answer for Q.8. :-\n",
    "\n",
    "If a function does not have a return statement, the return value of a call to that function is None. In Python, None is a special object used to indicate the absence of a value. It is often used as a default return value for functions that don't need to explicitly return anything."
   ]
  },
  {
   "cell_type": "markdown",
   "id": "9df1f912",
   "metadata": {},
   "source": [
    "Answer for Q.9. :-\n",
    "\n",
    "To make a function variable refer to the global variable instead of creating a new local variable with the same name, you can use the global keyword within the function. This tells Python to use the global variable instead of creating a new local variable.\n",
    "\n",
    "Here's an example:\n",
    "\n",
    "python\n",
    "Copy code\n",
    "x = 10  # Global variable\n",
    "\n",
    "def my_function():\n",
    "    global x  # Declare x as a global variable\n",
    "    x = 20   # Assign a new value to the global x\n",
    "\n",
    "my_function()\n",
    "print(x)  # Output: 20\n",
    "By using the global keyword, the function modifies the global variable x instead of creating a new local variable.\n"
   ]
  },
  {
   "cell_type": "markdown",
   "id": "1eea0cca",
   "metadata": {},
   "source": [
    "Answer for Q.10. :-\n",
    "\n",
    "The data type of None is NoneType. It is a built-in type in Python that represents the absence of a value. None is often used to indicate the lack of a specific return value or to initialize variables that may not have a value yet.\n"
   ]
  },
  {
   "cell_type": "markdown",
   "id": "55d291a8",
   "metadata": {},
   "source": [
    "Answer for Q.11. :- \n",
    "\n",
    "\n",
    "The sentence import areallyourpetsnamederic does not have a specific meaning in Python. It seems to be a fictional import statement that implies all your pets are named Eric. Python allows you to import modules, which are separate files containing Python code, but the mentioned import statement does not correspond to a standard or existing module.\n"
   ]
  },
  {
   "cell_type": "markdown",
   "id": "370cfe60",
   "metadata": {},
   "source": [
    "Answer for Q.12. :-\n",
    "\n",
    "If you had a bacon() function in a spam module, you would call it after importing spam using the dot notation. The syntax would be spam.bacon(). The dot notation allows you to access functions and variables defined within a module.\n",
    "\n",
    "For example:\n",
    "\n",
    "python\n",
    "Copy code\n",
    "import spam\n",
    "\n",
    "spam.bacon()\n",
    "Here, spam is the module name, and bacon() is the function name. By using the dot notation, you can call the bacon() function from the spam module."
   ]
  },
  {
   "cell_type": "markdown",
   "id": "21ba49e1",
   "metadata": {},
   "source": [
    "Answer for Q.13. :-\n",
    "\n",
    "To save a program from crashing if it encounters an error, you can use error handling techniques, such as exception handling. Exception handling allows you to catch and handle specific errors that may occur during the execution of your program.\n",
    "The try clause is used to enclose the code that might raise an exception. If an exception occurs within the try block, the program jumps to the except block that matches the raised exception type.\n",
    "\n",
    "Here's an example:\n",
    "\n",
    "python\n",
    "Copy code\n",
    "try:\n",
    "    # Code that might raise an exception\n",
    "    # ...\n",
    "except ExceptionType:\n",
    "    # Code to handle the exception\n",
    "    # ...\n",
    "By using exception handling, you can catch and handle errors gracefully, preventing the program from crashing and allowing you to perform alternative actions or display helpful error messages.\n",
    "\n"
   ]
  },
  {
   "cell_type": "markdown",
   "id": "83d77281",
   "metadata": {},
   "source": [
    "Answer for Q.14. :-\n",
    "\n",
    "The purpose of the try clause is to enclose the code that may raise an exception. It allows you to specify the code that should be executed normally, even if an exception occurs. If an exception is raised within the try block, the program jumps to the except block that matches the raised exception type.\n",
    "The purpose of the except clause is to define how the program should handle specific exceptions. It specifies the code that should be executed when a particular exception occurs. You can have multiple except clauses to handle different types of exceptions.\n",
    "\n",
    "Here's an example:\n",
    "\n",
    "python\n",
    "Copy code\n",
    "try:\n",
    "    # Code that might raise an exception\n",
    "    # ...\n",
    "except ValueError:\n",
    "    # Code to handle a ValueError\n",
    "    # ...\n",
    "except TypeError:\n",
    "    # Code to handle a TypeError\n",
    "    # ...\n",
    "except:\n",
    "    # Code to handle any other exception\n",
    "    # ...\n",
    "In this example, the program attempts to execute the code within the try block. If a ValueError occurs, the corresponding except ValueError block is executed. If a TypeError occurs, the corresponding except TypeError block is executed. If any other exception occurs that is not explicitly handled, the except block without a specific exception type will handle it."
   ]
  }
 ],
 "metadata": {
  "kernelspec": {
   "display_name": "Python 3",
   "language": "python",
   "name": "python3"
  },
  "language_info": {
   "codemirror_mode": {
    "name": "ipython",
    "version": 3
   },
   "file_extension": ".py",
   "mimetype": "text/x-python",
   "name": "python",
   "nbconvert_exporter": "python",
   "pygments_lexer": "ipython3",
   "version": "3.8.8"
  }
 },
 "nbformat": 4,
 "nbformat_minor": 5
}
